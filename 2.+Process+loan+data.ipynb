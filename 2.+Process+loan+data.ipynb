{
 "cells": [
  {
   "cell_type": "code",
   "execution_count": null,
   "metadata": {},
   "outputs": [],
   "source": [
    "import os\n",
    "import pandas\n",
    "import time\n",
    "os.chdir('/home/idies/workspace/Temporary/raddick/cra_scratch')\n",
    "os.getcwd()"
   ]
  },
  {
   "cell_type": "code",
   "execution_count": null,
   "metadata": {},
   "outputs": [],
   "source": [
    "s = time.time()\n",
    "loans_df = pandas.read_csv('loans_df.csv', encoding='utf-8')\n",
    "loans_df = loans_df.set_index('rownumber')\n",
    "loans_df_bk = loans_df\n",
    "e = time.time()\n",
    "print('Loaded in {0:,.0f} seconds.'.format(e-s))"
   ]
  },
  {
   "cell_type": "code",
   "execution_count": null,
   "metadata": {},
   "outputs": [],
   "source": [
    "# loans_df.sample(3).T\n",
    "loans_df = loans_df_bk\n",
    "print('Loaded from backup.')\n",
    "\n",
    "respondents_df = pandas.read_csv('/home/idies/workspace/Storage/raddick/raddick_cra/respondentid.csv', encoding='utf-8', index_col='respondentID')\n",
    "print('Loaded respondentIDs (n = {0:,.0f}).'.format(len(respondents_df['institution_name'].drop_duplicates())))\n",
    "print('\\nAdding institution (from respondentID)...')\n",
    "loans_df = loans_df.join(respondents_df, how='left', on='respondentID')\n",
    "# There are only 87 unique institutions represented?\n",
    "print('Found institutions for {0:,.0f} ({1:,.0f} unique).'.format(len(loans_df['institution_name'].notnull()), len(loans_df['institution_name'].drop_duplicates().notnull())))\n",
    "loans_df['institution_name'] = loans_df['institution_name'].fillna('Unknown')\n",
    "\n",
    "\n",
    "print('Converting assessment_area_number to numeric...')\n",
    "loans_df.loc[loans_df['assessment_area_number'] == 'A  ', 'assessment_area_number'] = '-1'\n",
    "loans_df['assessment_area_number'] = pandas.to_numeric(loans_df['assessment_area_number'], errors='coerce')\n",
    "\n",
    "\n",
    "#loans_df.sample(3)\n",
    "print('\\nAssigning codes...')\n",
    "print('agency_code -> agency...')\n",
    "loans_df.assign(agency='')\n",
    "loans_df.loc[loans_df['agency_code'] == 1, 'agency'] = 'OCC'\n",
    "loans_df.loc[loans_df['agency_code'] == 2, 'agency'] = 'FRS'\n",
    "loans_df.loc[loans_df['agency_code'] == 3, 'agency'] = 'FDIC'\n",
    "loans_df.loc[loans_df['agency_code'] == 4, 'agency'] = 'OTS'\n",
    "\n",
    "print('loan_type -> loan_to...')\n",
    "loans_df.assign(loan_to='')\n",
    "loans_df.loc[loans_df['loan_type'] == 4, 'loan_to'] = 'Business'\n",
    "loans_df.loc[loans_df['loan_type'] == 5, 'loan_to'] = 'Farm'\n",
    "\n",
    "print('action_taken_type -> action_taken...')\n",
    "loans_df.assign(action_taken='')\n",
    "loans_df.loc[loans_df['action_taken_type'] == 1, 'action_taken'] = 'Origination'\n",
    "loans_df.loc[loans_df['action_taken_type'] == 6, 'action_taken'] = 'Purchase'\n",
    "\n",
    "#print('state -> state_name')\n",
    "#statecodes_df = pandas.read_csv(\n",
    "#    '/home/idies/workspace/Storage/raddick/persistent/cra/metadata/statecodes.csv', \n",
    "#    encoding='utf-8', index_col='STATE')\n",
    "#statecodes_df = statecodes_df.rename(columns={'STUSAB': 'state_name'})\n",
    "#statecodes_df.index.name = 'state'\n",
    "#loans_df = loans_df.join(statecodes_df, how='left', on='state')\n",
    "\n",
    "print('income_group_total -> income_group')\n",
    "loans_df['income_group_total'] = pandas.to_numeric(loans_df['income_group_total'], errors='coerce')\n",
    "\n",
    "loans_df.assign(income_group='')\n",
    "loans_df.loc[loans_df['income_group_total'] == 1, 'income_group'] = '< 10% of Median Family Income (MFI)'\n",
    "loans_df.loc[loans_df['income_group_total'] == 2, 'income_group'] = '10% to 20% of MFI'\n",
    "loans_df.loc[loans_df['income_group_total'] == 3, 'income_group'] = '20% to 30% of MFI'\n",
    "loans_df.loc[loans_df['income_group_total'] == 4, 'income_group'] = '30% to 40% of MFI'\n",
    "loans_df.loc[loans_df['income_group_total'] == 5, 'income_group'] = '40% to 50% of MFI'\n",
    "loans_df.loc[loans_df['income_group_total'] == 6, 'income_group'] = '50% to 60% of MFI'\n",
    "loans_df.loc[loans_df['income_group_total'] == 7, 'income_group'] = '60% to 70% of MFI'\n",
    "loans_df.loc[loans_df['income_group_total'] == 8, 'income_group'] = '70% to 80% of MFI'\n",
    "loans_df.loc[loans_df['income_group_total'] == 9, 'income_group'] = '80% to 90% of MFI'\n",
    "loans_df.loc[loans_df['income_group_total'] == 10, 'income_group'] = '90% to 100% of MFI'\n",
    "loans_df.loc[loans_df['income_group_total'] == 11, 'income_group'] = '100% to 110% of MFI'\n",
    "loans_df.loc[loans_df['income_group_total'] == 12, 'income_group'] = '110% to 120% of MFI'\n",
    "loans_df.loc[loans_df['income_group_total'] == 13, 'income_group'] = '> 120% of MFI'\n",
    "loans_df.loc[loans_df['income_group_total'] == 14, 'income_group'] = 'MFI not known (income percentage = 0)'\n",
    "loans_df.loc[loans_df['income_group_total'] == 15, 'income_group'] = 'Tract not Known (reported as NA)'\n",
    "loans_df.loc[loans_df['income_group_total'] == 101, 'income_group'] = 'Low Income (< 50% of MFI) - excluding 0)'\n",
    "loans_df.loc[loans_df['income_group_total'] == 102, 'income_group'] = 'Moderate Income (50% to 80% of MFI)'\n",
    "loans_df.loc[loans_df['income_group_total'] == 103, 'income_group'] = 'Middle Income (80% to 120% of MFI)'\n",
    "loans_df.loc[loans_df['income_group_total'] == 104, 'income_group'] = 'Upper Income (> 120% of MFI)'\n",
    "loans_df.loc[loans_df['income_group_total'] == 105, 'income_group'] = 'Income Not Known (0)'\n",
    "loans_df.loc[loans_df['income_group_total'] == 106, 'income_group'] = 'Tract not Known (NA)'\n",
    "\n",
    "print('\\nMultiplying amount columns by 1000 to convert to real dollars...')\n",
    "amtloancolumns = ['amtLoans1', 'amtLoans100k', 'amtLoans250k', 'amtLoansToSmallest', 'amtLoansAff']\n",
    "for thiscol in amtloancolumns:\n",
    "    print(thiscol+'...')\n",
    "    loans_df[thiscol] = 1000*loans_df[thiscol]#.apply(lambda x: 1000*x)\n",
    "\n",
    "# Read inflation data, which comes from: https://data.bls.gov/pdq/SurveyOutputServlet\n",
    "print('\\nLoading inflation data...')\n",
    "inflation_df = pandas.read_csv('/home/idies/workspace/Storage/raddick/persistent/cra/metadata/inflation_to_2016.csv', encoding='utf-8')\n",
    "inflation_df = inflation_df[(inflation_df['Year'] >= 2004) & (inflation_df['Year'] <= 2016)]\n",
    "inflation_df = inflation_df.drop(['Jan', 'Feb', 'Mar', 'Apr', 'May', 'Jun', 'Jul', 'Aug', 'Sep', 'Oct', 'Nov'], axis=1)\n",
    "inflation_df = inflation_df.rename(columns={'Year': 'activity_year', 'Dec': 'inflation_factor'})\n",
    "inflation_df = inflation_df.set_index('activity_year')\n",
    "\n",
    "loans_df = loans_df.join(inflation_df, how='left', on='activity_year')\n",
    "\n",
    "# adjust\n",
    "print('Adjusting loan amount columns...')\n",
    "\n",
    "print('amtLoans1 -> amtLoans1_adjusted...')\n",
    "loans_df = loans_df.assign(amtLoans1_adjusted = loans_df['amtLoans1'] * loans_df['inflation_factor'])\n",
    "print('amtLoans100k -> amtLoans100k_adjusted...')\n",
    "loans_df = loans_df.assign(amtLoans100k_adjusted = loans_df['amtLoans100k'] * loans_df['inflation_factor'])\n",
    "print('amtLoans250k -> amtLoans250k_adjusted...')\n",
    "loans_df = loans_df.assign(amtLoans250k_adjusted = loans_df['amtLoans250k'] * loans_df['inflation_factor'])\n",
    "print('amtLoansToSmallest -> amtLoansToSmallest_adjusted...')\n",
    "loans_df = loans_df.assign(amtLoansToSmallest_adjusted = loans_df['amtLoansToSmallest'] * loans_df['inflation_factor'])\n",
    "print('amtLoansAff -> amtLoansAff_adjusted...')\n",
    "loans_df = loans_df.assign(amtLoansAff_adjusted = loans_df['amtLoansAff'] * loans_df['inflation_factor'])\n",
    "\n",
    "# remove tableID, it is redundant with loan_type and action_taken_type\n",
    "loans_df = loans_df.drop('tableID', axis=1)\n",
    "\n",
    "print('\\nWriting outfile...')\n",
    "loans_df.to_csv('loans_processed.csv', encoding='utf-8')\n",
    "print('Outfile written')\n",
    "\n",
    "loans_df_bk = loans_df\n",
    "\n",
    "print('\\nDONE!')\n"
   ]
  },
  {
   "cell_type": "markdown",
   "metadata": {
    "collapsed": true
   },
   "source": [
    "# Get MSA names (this gives memory error, figure out later)"
   ]
  },
  {
   "cell_type": "code",
   "execution_count": null,
   "metadata": {
    "collapsed": true
   },
   "outputs": [],
   "source": [
    "print('Loading from backup...')\n",
    "loans_df = loans_df_bk\n",
    "print('Converting MSA to numeric...')\n",
    "loans_df['msa'] = pandas.to_numeric(loans_df['msa'], errors='coerce')\n",
    "\n",
    "print('Reading MSA list...')\n",
    "msa_df = pandas.read_csv('/home/idies/workspace/Storage/raddick/persistent/cra/metadata/msacodes.csv', encoding='utf-8')\n",
    "\n",
    "print('Merging...')\n",
    "s = time.time()\n",
    "msa_df = msa_df.rename(columns={'msa_code': 'msa'})\n",
    "\n",
    "#loans_df = loans_df.merge(\n",
    "#    msa_df[['msa_code', 'msa_title']][\n",
    "#        msa_df['msa_code'].notnull()\n",
    "#    ], how='left', left_on='msa', right_on='msa_code')\n",
    "\n",
    "loans_df = loans_df.merge(msa_df[['msa', 'msa_title']], how='left', on='msa')\n",
    "e = time.time()\n",
    "print('Merged in {0:,.0f} seconds.'.format(e-s))\n",
    "\n",
    "loans_df.groupby('msa_title').size().sort_values(ascending=False)"
   ]
  },
  {
   "cell_type": "code",
   "execution_count": null,
   "metadata": {
    "collapsed": true
   },
   "outputs": [],
   "source": [
    "loans_df.columns\n",
    "#loans_df.groupby('report_level').size()"
   ]
  },
  {
   "cell_type": "code",
   "execution_count": null,
   "metadata": {
    "collapsed": true
   },
   "outputs": [],
   "source": [
    "#loans_df.columns\n",
    "#loans_df[loans_df['state'] == 24].groupby('msa').size()#.sort_values()\n",
    "\n",
    "loans_df = loans_df_bk\n",
    "\n",
    "#os.getcwd()\n",
    "s = time.time()\n",
    "msa_df = pandas.read_csv('/home/idies/workspace/Storage/raddick/persistent/cra/metadata/msacodes.csv', encoding='utf-8')\n",
    "e = time.time()\n",
    "print('Loaded {0:,.0f} metro areas in {1:,.0f} seconds.'.format(len(msa_df), e-s))\n",
    "\n",
    "#msa_df.groupby('cbsa_code').size().sort_values(ascending=False)\n",
    "#msa_df['cbsa_code'].drop_duplicates()\n",
    "#msa_df\n",
    "#loans_df.groupby('msa').size()\n",
    "print('\\nConverting to numeric...')\n",
    "s = time.time()\n",
    "loans_df['msa'] = pandas.to_numeric(loans_df['msa'], downcast='integer', errors='coerce')\n",
    "e = time.time()\n",
    "print('Done in {0:,.0f} seconds'.format(e-s))\n",
    "\n",
    "print('\\nMerging...')\n",
    "s = time.time()\n",
    "print('By CBSA...')\n",
    "loans_df = loans_df.merge(\n",
    "    msa_df[['cbsa_code', 'cbsa_title']], \n",
    "    how='left', left_on='msa', right_on='cbsa_code')\n",
    "\n",
    "print('By MSA...')\n",
    "loans_df = loans_df[(loans_df['cbsa_title'].isnull()) & (loans_df['msa'].notnull())].merge(msa_df[['msa_code', 'msa_title']], how='left', left_on='msa', right_on='msa_code')\n",
    "\n",
    "e = time.time()\n",
    "print('Done in {0:,.0f} seconds.'.format(e-s))\n",
    "loans_df.gropuby('msa_title').size().sort_values(ascending=False)\n",
    "#loans_df.groupby('msa').size()\n",
    "#msa_df.dtypes\n",
    "#loans_df.groupby('cbsa_title').size()\n",
    "\n",
    "#loans_df = loans_df.merge(\n",
    "#    msa_df[['cbsa_code', 'cbsa_title']], \n",
    "#    how='left', left_on='msa', right_on='cbsa_code')\n"
   ]
  },
  {
   "cell_type": "code",
   "execution_count": null,
   "metadata": {
    "collapsed": true
   },
   "outputs": [],
   "source": [
    "\n"
   ]
  },
  {
   "cell_type": "code",
   "execution_count": null,
   "metadata": {
    "collapsed": true
   },
   "outputs": [],
   "source": []
  },
  {
   "cell_type": "code",
   "execution_count": null,
   "metadata": {
    "collapsed": true
   },
   "outputs": [],
   "source": []
  }
 ],
 "metadata": {
  "kernelspec": {
   "display_name": "Python 3",
   "language": "python",
   "name": "python3"
  },
  "language_info": {
   "codemirror_mode": {
    "name": "ipython",
    "version": 3
   },
   "file_extension": ".py",
   "mimetype": "text/x-python",
   "name": "python",
   "nbconvert_exporter": "python",
   "pygments_lexer": "ipython3",
   "version": "3.6.1"
  }
 },
 "nbformat": 4,
 "nbformat_minor": 2
}
