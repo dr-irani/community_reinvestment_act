{
 "cells": [
  {
   "cell_type": "code",
   "execution_count": null,
   "metadata": {},
   "outputs": [],
   "source": [
    "import os\n",
    "import pandas\n",
    "import numpy as np\n",
    "from matplotlib import pyplot as plt\n",
    "from matplotlib import ticker\n",
    "from IPython.display import display, HTML\n",
    "os.chdir('/home/idies/workspace/Temporary/raddick/cra_scratch/')\n",
    "os.getcwd()"
   ]
  },
  {
   "cell_type": "code",
   "execution_count": null,
   "metadata": {},
   "outputs": [],
   "source": [
    "baltimore_originators_df = pandas.read_csv('loans_processed.csv', encoding='utf-8', index_col='rownumber')\n",
    "#baltimore_df.sample(3).T\n",
    "print('done')"
   ]
  },
  {
   "cell_type": "code",
   "execution_count": null,
   "metadata": {},
   "outputs": [],
   "source": [
    "print(len(baltimore_originators_df))\n",
    "baltimore_originators_df = baltimore_originators_df[\n",
    "    (baltimore_originators_df['state'] == 24) &\n",
    "    (baltimore_originators_df['county'] == 510) &\n",
    "    (baltimore_originators_df['loan_type'] == 4) &\n",
    "    (baltimore_originators_df['action_taken_type'] == 1)\n",
    "]\n",
    "print(len(baltimore_originators_df))\n",
    "\n",
    "baltimore_originators_df_bk = baltimore_originators_df\n",
    "\n",
    "baltimore_originators_df.sample(3).T"
   ]
  },
  {
   "cell_type": "code",
   "execution_count": null,
   "metadata": {},
   "outputs": [],
   "source": [
    "baltimore_tracts_df = pandas.read_csv('tracts_processed.csv', encoding='utf-8', index_col='rownumber')\n",
    "print(len(baltimore_tracts_df))\n",
    "\n",
    "baltimore_tracts_df = baltimore_tracts_df[(baltimore_tracts_df['state'] == 24) & (baltimore_tracts_df['county'] == 510)]\n",
    "print(len(baltimore_tracts_df))"
   ]
  },
  {
   "cell_type": "code",
   "execution_count": null,
   "metadata": {},
   "outputs": [],
   "source": [
    "neighborhoods_df = pandas.read_csv('/home/idies/workspace/Storage/raddick/persistent/cra/metadata/census_tract_to_neighborhood.csv')\n",
    "#baltimore_tracts_df = baltimore_tracts_df.\n",
    "neighborhoods_df = neighborhoods_df.set_index('NAME10')\n",
    "\n",
    "baltimore_tracts_df = baltimore_tracts_df.join(neighborhoods_df['CSA2010'], how='left', on='census_tract')\n",
    "baltimore_tracts_df = baltimore_tracts_df.rename(columns={'CSA2010': 'neighborhood'})\n",
    "\n",
    "baltimore_tracts_df_bk = baltimore_tracts_df\n",
    "\n",
    "baltimore_tracts_df.sample(3)"
   ]
  },
  {
   "cell_type": "code",
   "execution_count": null,
   "metadata": {},
   "outputs": [],
   "source": [
    "print('Reading from backup...')\n",
    "baltimore_originators_df = baltimore_originators_df_bk\n",
    "\n",
    "print('Totaling loan numbers and amounts...')\n",
    "baltimore_originators_df = baltimore_originators_df.assign(nLoansTotal=baltimore_originators_df['nLoans1']+baltimore_originators_df['nLoans100k']+baltimore_originators_df['nLoans250k'])\n",
    "baltimore_originators_df = baltimore_originators_df.assign(amtLoansTotal=baltimore_originators_df['amtLoans1']+baltimore_originators_df['amtLoans100k']+baltimore_originators_df['amtLoans250k'])\n",
    "baltimore_originators_df = baltimore_originators_df.assign(amtLoansTotal_adjusted=baltimore_originators_df['amtLoans1_adjusted']+baltimore_originators_df['amtLoans100k_adjusted']+baltimore_originators_df['amtLoans250k_adjusted'])\n",
    "\n",
    "print('Converting full level system to low/moderate/medium/upper...')\n",
    "baltimore_originators_df = baltimore_originators_df.assign(cra_level = '')\n",
    "baltimore_originators_df.loc[(baltimore_originators_df['income_group_total'].apply(lambda x: (x >= 1) & (x <=5))), 'cra_level'] = 'low'\n",
    "baltimore_originators_df.loc[(baltimore_originators_df['income_group_total'].apply(lambda x: (x >= 6) & (x <=8))), 'cra_level'] = 'moderate'\n",
    "baltimore_originators_df.loc[(baltimore_originators_df['income_group_total'].apply(lambda x: (x >= 9) & (x <=12))), 'cra_level'] = 'middle'\n",
    "baltimore_originators_df.loc[(baltimore_originators_df['income_group_total'].apply(lambda x: (x == 13))), 'cra_level'] = 'upper'\n",
    "baltimore_originators_df.loc[(baltimore_originators_df['income_group_total'].apply(lambda x: (x >= 14) & (x <=15))), 'cra_level'] = 'unknown'\n",
    "\n",
    "#baltimore_originators_df.sample(3).T\n",
    "\n",
    "baltimore_originators_df.groupby('cra_level').size().reindex(['low', 'moderate', 'middle', 'upper', 'unknown'])"
   ]
  },
  {
   "cell_type": "code",
   "execution_count": null,
   "metadata": {},
   "outputs": [],
   "source": [
    "inst_year_df = baltimore_originators_df.groupby(['institution_name', 'activity_year'])['amtLoansTotal'].sum().unstack(1)#.sort_values)\n",
    "\n",
    "sortorder = baltimore_originators_df[(baltimore_originators_df['institution_name'] != 'Unknown') & (baltimore_originators_df['activity_year'] == 2016)].groupby('institution_name', as_index=False)['amtLoansTotal'].sum().sort_values(by='amtLoansTotal', ascending=False)['institution_name'].values.tolist()\n",
    "sortindex = pandas.Index(sortorder)\n",
    "inst_year_df = inst_year_df.reindex(sortindex)\n",
    "\n",
    "htmlstring = '<h1>Lending in Baltimore City by institution, 2009-2016</h1>'\n",
    "htmlstring += '<table>'\n",
    "htmlstring += '<tr>'\n",
    "htmlstring += '<th>Institution</th>'\n",
    "for i in range(2009, 2017):\n",
    "    htmlstring += '<th>'+str(i)+'</th>'\n",
    "htmlstring += '</tr>'\n",
    "for idx, thisrow in inst_year_df.iterrows():\n",
    "    htmlstring += '<tr>'\n",
    "    htmlstring += '<td>{0:}</td>'.format(idx)\n",
    "    for i in range(5, 13):\n",
    "        #if (thisrow.iloc[i] == np.nan):\n",
    "        if ('<td>${0:,.0f}</td>'.format(thisrow.iloc[i]) == '<td>$nan</td>'):\n",
    "            htmlstring += '<td></td>'\n",
    "        else:\n",
    "            htmlstring += '<td>${0:,.0f}</td>'.format(thisrow.iloc[i])\n",
    "    htmlstring += '</tr>'\n",
    "htmlstring += '</table>'\n",
    "\n",
    "display(HTML(htmlstring))\n"
   ]
  },
  {
   "cell_type": "code",
   "execution_count": null,
   "metadata": {},
   "outputs": [],
   "source": [
    "inst_year_df = baltimore_originators_df.groupby(['institution_name', 'activity_year'])['amtLoansTotal_adjusted'].sum().unstack(1)#.sort_values)\n",
    "\n",
    "sortorder = baltimore_originators_df[(baltimore_originators_df['institution_name'] != 'Unknown') & (baltimore_originators_df['activity_year'] == 2016)].groupby('institution_name', as_index=False)['amtLoansTotal'].sum().sort_values(by='amtLoansTotal', ascending=False)['institution_name'].values.tolist()\n",
    "sortindex = pandas.Index(sortorder)\n",
    "inst_year_df = inst_year_df.reindex(sortindex)\n",
    "\n",
    "htmlstring = '<h1>Lending in Baltimore City by institution, 2004-2008 (inflation-adjusted to 2016 dollars)</h1>'\n",
    "htmlstring += '<table>'\n",
    "htmlstring += '<tr>'\n",
    "htmlstring += '<th>Institution</th>'\n",
    "for i in range(2004, 2009):\n",
    "    htmlstring += '<th>'+str(i)+'</th>'\n",
    "htmlstring += '</tr>'\n",
    "for idx, thisrow in inst_year_df.iterrows():\n",
    "    htmlstring += '<tr>'\n",
    "    htmlstring += '<td>{0:}</td>'.format(idx)\n",
    "    for i in range(0, 5):\n",
    "        #if (thisrow.iloc[i] == np.nan):\n",
    "        if ('<td>${0:,.0f}</td>'.format(thisrow.iloc[i]) == '<td>$nan</td>'):\n",
    "            htmlstring += '<td></td>'\n",
    "        else:\n",
    "            htmlstring += '<td>${0:,.0f}</td>'.format(thisrow.iloc[i])\n",
    "    htmlstring += '</tr>'\n",
    "htmlstring += '</table>'\n",
    "\n",
    "display(HTML(htmlstring))\n"
   ]
  },
  {
   "cell_type": "code",
   "execution_count": null,
   "metadata": {},
   "outputs": [],
   "source": [
    "def ymillions(x,pos):\n",
    "    return '{0:.0f}'.format(x/1000000)\n",
    "\n",
    "year_df = baltimore_originators_df.groupby(['activity_year'])['amtLoansTotal'].sum()#.unstack(1)\n",
    "year_adj_df = baltimore_originators_df.groupby(['activity_year'])['amtLoansTotal_adjusted'].sum()#.unstack(1)\n",
    "\n",
    "#sortorder = baltimore_originators_df[(baltimore_originators_df['institution_name'] != 'Unknown') & (baltimore_originators_df['activity_year'] == 2016)].groupby('institution_name', as_index=False)['amtLoansTotal'].sum().sort_values(by='amtLoansTotal', ascending=False)['institution_name'].values.tolist()\n",
    "#sortindex = pandas.Index(sortorder)\n",
    "#inst_year_df = inst_year_df.reindex(sortindex)\n",
    "\n",
    "fig, ax1 = plt.subplots(figsize=(12,6))\n",
    "\n",
    "ax1.plot(year_df.index, year_df.values, marker='o', label='Real')\n",
    "ax1.plot(year_adj_df.index, year_adj_df.values, marker='o', label='Inflation-adjusted to 2016')\n",
    "\n",
    "ax1.xaxis.set_major_locator(ticker.FixedLocator([2004, 2005, 2006, 2007, 2008, 2009, 2010, 2011, 2012, 2013, 2014, 2015, 2016]))\n",
    "\n",
    "ax1.set_ylim((0,600000000))\n",
    "ax1.yaxis.set_major_locator(ticker.AutoLocator())\n",
    "ax1.yaxis.set_major_formatter(ticker.FuncFormatter(ymillions))\n",
    "\n",
    "plt.tick_params(axis='both', which='major', labelsize=12)\n",
    "plt.xlabel('Year', fontsize=16)\n",
    "plt.ylabel('Total loans (millions)', fontsize=16)\n",
    "plt.title('Total CRA loans in Baltimore City', fontsize=18)\n",
    "plt.legend(fontsize=12)\n",
    "plt.show()"
   ]
  },
  {
   "cell_type": "code",
   "execution_count": null,
   "metadata": {
    "collapsed": true
   },
   "outputs": [],
   "source": []
  }
 ],
 "metadata": {
  "kernelspec": {
   "display_name": "Python 3",
   "language": "python",
   "name": "python3"
  },
  "language_info": {
   "codemirror_mode": {
    "name": "ipython",
    "version": 3
   },
   "file_extension": ".py",
   "mimetype": "text/x-python",
   "name": "python",
   "nbconvert_exporter": "python",
   "pygments_lexer": "ipython3",
   "version": "3.6.1"
  }
 },
 "nbformat": 4,
 "nbformat_minor": 2
}
