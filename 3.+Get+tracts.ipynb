{
 "cells": [
  {
   "cell_type": "code",
   "execution_count": null,
   "metadata": {},
   "outputs": [],
   "source": [
    "import os\n",
    "import pandas\n",
    "import time\n",
    "os.chdir('/home/idies/workspace/Temporary/raddick/cra_scratch/')\n",
    "os.getcwd()"
   ]
  },
  {
   "cell_type": "code",
   "execution_count": null,
   "metadata": {},
   "outputs": [],
   "source": [
    "s = time.time()\n",
    "tracts_df = pandas.read_csv('tracts_df.csv', encoding='utf-8', index_col='rownumber')\n",
    "e = time.time()\n",
    "print('Loaded in {0:,.0f} seconds.'.format(e-s))\n",
    "tracts_df_bk = tracts_df\n",
    "tracts_df.sample(3).T"
   ]
  },
  {
   "cell_type": "code",
   "execution_count": null,
   "metadata": {},
   "outputs": [],
   "source": [
    "print('reading from backup...')\n",
    "tracts_df = tracts_df_bk\n",
    "print('\\nreplacing NA with -1...')\n",
    "print('msa...')\n",
    "tracts_df.loc[tracts_df['msa'] == 'NA   ', 'msa'] = '-1'\n",
    "print('assessment_area_number...')\n",
    "tracts_df.loc[tracts_df['assessment_area_number'] == 'NA  ', 'assessment_area_number'] = '-1'\n",
    "print('\\nconverting to numeric...')\n",
    "print('msa...')\n",
    "tracts_df['msa'] = pandas.to_numeric(tracts_df['msa'], errors='coerce')\n",
    "print('assessment_area_number...')\n",
    "tracts_df['assessment_area_number'] = pandas.to_numeric(tracts_df['assessment_area_number'], errors='coerce')\n",
    "\n",
    "print('dropping tableID...')\n",
    "tracts_df = tracts_df.drop('tableID', axis=1)\n",
    "\n",
    "print('writing outfile...')\n",
    "tracts_df.to_csv('tracts_processed.csv', encoding='utf-8')\n",
    "\n",
    "print('Done!')\n",
    "\n",
    "#baltimore_tracts_df = tracts_df[(tracts_df['state'] == 24) & (tracts_df['county'] == 510)]\n",
    "#print(len(baltimore_tracts_df))\n",
    "#baltimore_tracts_df.to_csv('baltimore_tracts_df.csv', encoding='utf-8')\n",
    "#print('ok')\n",
    "#tracts_df.groupby('assessment_area_number').size()"
   ]
  },
  {
   "cell_type": "code",
   "execution_count": null,
   "metadata": {
    "collapsed": true
   },
   "outputs": [],
   "source": []
  },
  {
   "cell_type": "code",
   "execution_count": null,
   "metadata": {
    "collapsed": true
   },
   "outputs": [],
   "source": [
    "geocolumns = ['state', 'county', 'msa', 'census_tract', 'assessment_area_number']\n",
    "geocolumns += ['partial_county_indicator', 'split_county_indicator']\n",
    "geocolumns += ['population_classification']\n",
    "tracts_df = tracts_df[geocolumns]\n",
    "\n",
    "print('\\nassessment_area_number...')\n",
    "print('Converting to numeric...')\n",
    "s = time.time()\n",
    "tracts_df.loc[tracts_df['assessment_area_number'] == 'NA  ', 'assessment_area_number'] = '-1'\n",
    "tracts_df['assessment_area_number'] = pandas.to_numeric(tracts_df['assessment_area_number'], errors='coerce')\n",
    "e = time.time()\n",
    "\n",
    "print('Converted to numeric in {0:,.0f} seconds.'.format(e-s))\n",
    "\n",
    "print('Done')"
   ]
  },
  {
   "cell_type": "code",
   "execution_count": null,
   "metadata": {
    "collapsed": true
   },
   "outputs": [],
   "source": [
    "#tracts_df.groupby('assessment_area_number').size().sort_values(ascending=False)\n",
    "geo_df.columns"
   ]
  },
  {
   "cell_type": "code",
   "execution_count": null,
   "metadata": {
    "collapsed": true
   },
   "outputs": [],
   "source": []
  }
 ],
 "metadata": {
  "kernelspec": {
   "display_name": "Python 3",
   "language": "python",
   "name": "python3"
  },
  "language_info": {
   "codemirror_mode": {
    "name": "ipython",
    "version": 3
   },
   "file_extension": ".py",
   "mimetype": "text/x-python",
   "name": "python",
   "nbconvert_exporter": "python",
   "pygments_lexer": "ipython3",
   "version": "3.6.1"
  }
 },
 "nbformat": 4,
 "nbformat_minor": 2
}
